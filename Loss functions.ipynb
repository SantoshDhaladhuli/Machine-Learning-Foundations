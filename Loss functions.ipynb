{
 "cells": [
  {
   "cell_type": "code",
   "execution_count": 27,
   "id": "58dcec94",
   "metadata": {},
   "outputs": [],
   "source": [
    "import numpy as np\n",
    "from scipy.linalg import norm\n",
    "import matplotlib.pyplot as plt"
   ]
  },
  {
   "cell_type": "markdown",
   "id": "16de5221",
   "metadata": {},
   "source": [
    "***Dimensionality Reduction***"
   ]
  },
  {
   "cell_type": "code",
   "execution_count": 28,
   "id": "1f183d26",
   "metadata": {},
   "outputs": [
    {
     "name": "stdout",
     "output_type": "stream",
     "text": [
      "15.225\n",
      "3.80625\n",
      "\n",
      "34.5\n"
     ]
    }
   ],
   "source": [
    "def dimensionality_loss(l,f,g):\n",
    "    s = 0\n",
    "    for elem in l:\n",
    "        s = s + norm(np.subtract(g(f(elem)),elem))**2\n",
    "    return s/len(l)\n",
    "def f1(x):\n",
    "    return x[0] - x[1] # Encoder Function\n",
    "def f2(x):\n",
    "    return 0.5*(x[0] + x[1]) # Encoder Function\n",
    "def f3(x):\n",
    "    return 0.5*(x[0] + 2*(x[1])) # Encoder Function\n",
    "def g1(u):\n",
    "    return [u/2,u/2] # Decoder Function\n",
    "def g2(u):\n",
    "    return [u,2*u,3*u] # Decoder Function\n",
    "\n",
    "s1 = [[1,0.5],[2,2.3],[3,3.1],[4,3.9]] # Given Data     \n",
    "print(dimensionality_loss(s1,f1,g))\n",
    "print(dimensionality_loss(s1,f2,g))\n",
    "print()\n",
    "s2 = [[1,2,3],[2,3,4],[-1,0,1],[0,1,1]] # Given Data \n",
    "print(dimensionality_loss(s2,f3,g2))\n",
    "\n",
    "    "
   ]
  },
  {
   "cell_type": "markdown",
   "id": "56e6f862",
   "metadata": {},
   "source": [
    "***Linear Regression***"
   ]
  },
  {
   "cell_type": "code",
   "execution_count": 34,
   "id": "691887a8",
   "metadata": {},
   "outputs": [
    {
     "name": "stdout",
     "output_type": "stream",
     "text": [
      "3.8972965749999995\n",
      "8.843296575\n",
      "3.400646575\n",
      "7.346646575000001\n",
      "\n",
      "0.8840000000000003\n",
      "49.364000000000004\n"
     ]
    }
   ],
   "source": [
    "def linear_regression_loss(l,a,b):\n",
    "    s = 0\n",
    "    for elem in l:\n",
    "        s = s + (elem[1] - (a*elem[0] - b))**2\n",
    "    return s/len(l)\n",
    "\n",
    "l = [[-1,0.0319],[0,0.8692],[1,1.9566],[2,3.0343]] # Given Data\n",
    "print(linear_regression_loss(l,1,1))\n",
    "print(linear_regression_loss(l,1,2))\n",
    "print(linear_regression_loss(l,2,1))\n",
    "print(linear_regression_loss(l,2,2))\n",
    "\n",
    "s = [[2,5.8],[3,8.3],[6,18.3],[7,21],[8,22]]  # Given Data\n",
    "print()\n",
    "print(linear_regression_loss(s,3,1))\n",
    "print(linear_regression_loss(s,2,2))\n",
    "        \n",
    "    "
   ]
  },
  {
   "cell_type": "markdown",
   "id": "3b4720d5",
   "metadata": {},
   "source": [
    "***Classification***"
   ]
  },
  {
   "cell_type": "code",
   "execution_count": 33,
   "id": "dc375840",
   "metadata": {},
   "outputs": [
    {
     "name": "stdout",
     "output_type": "stream",
     "text": [
      "0.16666666666666666\n",
      "0.5\n"
     ]
    }
   ],
   "source": [
    "def sign(x):   # Linear Separator\n",
    "    if x >= 0:\n",
    "        return 1\n",
    "    else:\n",
    "        return -1\n",
    "def f1(x):  # x is a vector\n",
    "    return x[0] - x[1] - 2  # Classifier\n",
    "def f2(x): # x is a vector\n",
    "    return x[0] + x[1] - 10  # Classifier\n",
    "l = [[4,2],[8,4],[2,6],[4,10],[10,2],[12,8]]      # Given Data \n",
    "y = [1,1,-1,-1,1,-1]       # Given Data\n",
    "def classification_loss(l,y,f):\n",
    "    count = 0\n",
    "    for i in range(len(l)):\n",
    "        if y[i]*sign(f(l[i]))  == -1:\n",
    "            count = count + 1\n",
    "        else:\n",
    "            continue\n",
    "    return count/len(l)\n",
    "print(classification_loss(l,y,f1))\n",
    "print(classification_loss(l,y,f2))\n",
    "    "
   ]
  },
  {
   "cell_type": "markdown",
   "id": "947a0fbc",
   "metadata": {},
   "source": [
    "***Density Estimation***"
   ]
  }
 ],
 "metadata": {
  "kernelspec": {
   "display_name": "Python 3",
   "language": "python",
   "name": "python3"
  },
  "language_info": {
   "codemirror_mode": {
    "name": "ipython",
    "version": 3
   },
   "file_extension": ".py",
   "mimetype": "text/x-python",
   "name": "python",
   "nbconvert_exporter": "python",
   "pygments_lexer": "ipython3",
   "version": "3.8.8"
  }
 },
 "nbformat": 4,
 "nbformat_minor": 5
}
