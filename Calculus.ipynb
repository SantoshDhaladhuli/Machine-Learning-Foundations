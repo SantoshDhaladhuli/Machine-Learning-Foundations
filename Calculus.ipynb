{
 "cells": [
  {
   "cell_type": "markdown",
   "id": "679fc033",
   "metadata": {},
   "source": [
    "***Set Theory***"
   ]
  },
  {
   "cell_type": "code",
   "execution_count": 2,
   "id": "7e9a157c",
   "metadata": {},
   "outputs": [
    {
     "name": "stdout",
     "output_type": "stream",
     "text": [
      "{3, 4, 5, 6, 7, 8, 9}\n",
      "{1, 2, 3, 4, 6, 8, 45}\n"
     ]
    }
   ],
   "source": [
    "s = [5,6,7,8,9,4,3]\n",
    "p = [3,45,6,2,4,1,8]\n",
    "print(set(s)) # set() convert list/tuple/string to a set\n",
    "print(set(p))\n",
    "# elements of a set are unique"
   ]
  },
  {
   "cell_type": "code",
   "execution_count": 9,
   "id": "b6ac2381",
   "metadata": {},
   "outputs": [
    {
     "name": "stdout",
     "output_type": "stream",
     "text": [
      "{1, 2, 3, 4, 5, 6, 7, 8, 9, 45}\n",
      "{1, 2, 3, 4, 5, 6, 7, 8, 9, 45}\n",
      "{8, 3, 4, 6}\n",
      "{8, 3, 4, 6}\n",
      "{9, 5, 7}\n",
      "{9, 5, 7}\n",
      "\n",
      "(7, 7)\n"
     ]
    }
   ],
   "source": [
    "# Set operations\n",
    "print(set(s).union(set(p))) # union of sets\n",
    "print(set(s) | set(p))    # union of sets\n",
    "print(set(s).intersection(set(p)))   # intersection of sets\n",
    "print(set(s) & set(p))    # intersection of sets\n",
    "print(set(s).difference(set(p)))   # set difference (not commutative)\n",
    "print(set(s) - set(p))     # set difference, s - p != p - s\n",
    "print()\n",
    "print((len(set(s)),len(set(p))))  # cardinality of a set"
   ]
  },
  {
   "cell_type": "markdown",
   "id": "85cbcc64",
   "metadata": {},
   "source": [
    "***Linear Approximation***"
   ]
  },
  {
   "cell_type": "code",
   "execution_count": 14,
   "id": "f491c905",
   "metadata": {},
   "outputs": [
    {
     "name": "stdout",
     "output_type": "stream",
     "text": [
      "1.0110607224447195 1.022000003666667\n",
      "1.9748417658131499 1.9499999996093624\n"
     ]
    }
   ],
   "source": [
    "from math import exp,sqrt\n",
    "def central_difference(f,x,h):\n",
    "    return (f(x+h)-f(x-h))/h\n",
    "def linear_approx(f,x,x_0): # x is around x_0\n",
    "    h = 1e-3\n",
    "    return f(x_0) + central_difference(f,x_0,h)*(x - x_0)\n",
    "\n",
    "f1 = lambda x: exp(x)\n",
    "f2 = lambda x: sqrt(x)\n",
    "print(f1(0.011),linear_approx(f1,0.011,0))\n",
    "print(f2(3.9),linear_approx(f2,3.9,4))"
   ]
  }
 ],
 "metadata": {
  "kernelspec": {
   "display_name": "Python 3",
   "language": "python",
   "name": "python3"
  },
  "language_info": {
   "codemirror_mode": {
    "name": "ipython",
    "version": 3
   },
   "file_extension": ".py",
   "mimetype": "text/x-python",
   "name": "python",
   "nbconvert_exporter": "python",
   "pygments_lexer": "ipython3",
   "version": "3.8.8"
  }
 },
 "nbformat": 4,
 "nbformat_minor": 5
}
